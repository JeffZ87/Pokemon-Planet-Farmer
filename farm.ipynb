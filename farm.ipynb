{
 "cells": [
  {
   "cell_type": "code",
   "execution_count": 1,
   "metadata": {},
   "outputs": [],
   "source": [
    "from selenium import webdriver\n",
    "from selenium.webdriver.common.by import By\n",
    "from selenium.webdriver.common.action_chains  import ActionChains\n",
    "from time import sleep\n",
    "\n",
    "from PIL import Image\n",
    "import pytesseract\n",
    "import numpy as np\n",
    "# path to your tesseract.exe\n",
    "pytesseract.pytesseract.tesseract_cmd = '{path to tesseract}/tesseract.exe'\n",
    "\n",
    "from playsound import playsound"
   ]
  },
  {
   "attachments": {},
   "cell_type": "markdown",
   "metadata": {},
   "source": [
    "# Start Browser"
   ]
  },
  {
   "cell_type": "code",
   "execution_count": 2,
   "metadata": {},
   "outputs": [],
   "source": [
    "option = webdriver.ChromeOptions()\n",
    "# path to my browser\n",
    "option.binary_location = '{path to browser exe}'\n",
    "driver = webdriver.Chrome(options=option)\n",
    "\n",
    "# or you can call chrome by uncommenting the code below and comment the code above\n",
    "# driver = webdriver.Chrome()"
   ]
  },
  {
   "attachments": {},
   "cell_type": "markdown",
   "metadata": {},
   "source": [
    "# Login"
   ]
  },
  {
   "attachments": {},
   "cell_type": "markdown",
   "metadata": {},
   "source": [
    "## Login actions"
   ]
  },
  {
   "cell_type": "code",
   "execution_count": 3,
   "metadata": {},
   "outputs": [],
   "source": [
    "def login_and_play(driver):\n",
    "    driver.get('https://pokemon-planet.com/')\n",
    "\n",
    "    # click playnow button\n",
    "    driver.find_element(By.ID, 'playnow').click()\n",
    "    # input username and password\n",
    "    driver.find_element(By.ID, 'user').send_keys('{username}')\n",
    "    driver.find_element(By.ID, 'passwrd').send_keys('{password}')\n",
    "    # click login\n",
    "    driver.find_element(By.CLASS_NAME, 'loginbutton').click()\n",
    "    # play\n",
    "    driver.find_element(By.ID, 'playnowbutton').click()\n",
    "    # wait for the game to load\n",
    "    sleep(50)\n",
    "\n",
    "    driver.find_element(By.ID, 'unity-fullscreen-button').click()\n"
   ]
  },
  {
   "attachments": {},
   "cell_type": "markdown",
   "metadata": {},
   "source": [
    "# Reload game"
   ]
  },
  {
   "cell_type": "code",
   "execution_count": 4,
   "metadata": {},
   "outputs": [],
   "source": [
    "# reload the game window incase of connection error\n",
    "# returns a pointer to game canvas\n",
    "def reload(driver):\n",
    "    driver.get('https://pokemon-planet.com/forums/game/')\n",
    "    sleep(30)\n",
    "    driver.find_element(By.ID, 'unity-fullscreen-button').click()\n",
    "    return driver.find_element(By.ID, 'unity-canvas')"
   ]
  },
  {
   "attachments": {},
   "cell_type": "markdown",
   "metadata": {},
   "source": [
    "# Game Action"
   ]
  },
  {
   "cell_type": "code",
   "execution_count": 5,
   "metadata": {},
   "outputs": [],
   "source": [
    "def hop_on_bike(driver, game):\n",
    "    hop_on_bike = ActionChains(driver)\n",
    "    hop_on_bike.move_to_element(game)\n",
    "    hop_on_bike.send_keys('B')\n",
    "    # perform the action\n",
    "    hop_on_bike.perform()"
   ]
  },
  {
   "cell_type": "code",
   "execution_count": 6,
   "metadata": {},
   "outputs": [],
   "source": [
    "# walking function that walks left and right\n",
    "def walking(driver, game) :\n",
    "    walk = ActionChains(driver)\n",
    "    walk.move_to_element(game)\n",
    "    walk.click_and_hold(game)\n",
    "\n",
    "    # Simulate press-and-hold of the \"B\" key for 2 seconds\n",
    "    walk.key_down('a').pause(1)\n",
    "    walk.key_up('a')\n",
    "    walk.key_down('d').pause(1)\n",
    "    walk.key_up('d')\n",
    "    walk.perform()"
   ]
  },
  {
   "attachments": {},
   "cell_type": "markdown",
   "metadata": {},
   "source": [
    "# Encounters A Pokemon"
   ]
  },
  {
   "attachments": {},
   "cell_type": "markdown",
   "metadata": {},
   "source": [
    "## Screenshot"
   ]
  },
  {
   "cell_type": "code",
   "execution_count": 7,
   "metadata": {},
   "outputs": [],
   "source": [
    "def screen_capture(driver):\n",
    "    driver.get_screenshot_as_file('screenshot.png')"
   ]
  },
  {
   "attachments": {},
   "cell_type": "markdown",
   "metadata": {},
   "source": [
    "## Screenshot battle log\n",
    "\n",
    "Edit crop pixel location according to screen size"
   ]
  },
  {
   "cell_type": "code",
   "execution_count": 8,
   "metadata": {},
   "outputs": [],
   "source": [
    "def battle_log(driver):\n",
    "    screen_capture(driver)\n",
    "    image = Image.open('screenshot.png')\n",
    "\n",
    "    # crop by pixel location\n",
    "    cropped_image = image.crop((300, 220, \n",
    "                                700, 750))\n",
    "\n",
    "    cropped_image.save(\"screenshot.png\")"
   ]
  },
  {
   "attachments": {},
   "cell_type": "markdown",
   "metadata": {},
   "source": [
    "## Recognize text"
   ]
  },
  {
   "cell_type": "code",
   "execution_count": 9,
   "metadata": {},
   "outputs": [],
   "source": [
    "def text_recog():\n",
    "    filename = 'screenshot.png'\n",
    "    img1 = np.array(Image.open(filename))\n",
    "    text = pytesseract.image_to_string(img1)\n",
    "    return text"
   ]
  },
  {
   "attachments": {},
   "cell_type": "markdown",
   "metadata": {},
   "source": [
    "## Screenshot and recognize text within image\n",
    "\n",
    "This is used to capture game error keywords"
   ]
  },
  {
   "cell_type": "code",
   "execution_count": 10,
   "metadata": {},
   "outputs": [],
   "source": [
    "def text_screenshot(driver):\n",
    "    screen_capture(driver)\n",
    "    return text_recog()"
   ]
  },
  {
   "attachments": {},
   "cell_type": "markdown",
   "metadata": {},
   "source": [
    "# Battle Actions"
   ]
  },
  {
   "attachments": {},
   "cell_type": "markdown",
   "metadata": {},
   "source": [
    "## Run"
   ]
  },
  {
   "cell_type": "code",
   "execution_count": 11,
   "metadata": {},
   "outputs": [],
   "source": [
    "def run(driver, game):\n",
    "    run_action = ActionChains(driver)\n",
    "    run_action.move_to_element(game)\n",
    "    run_action.send_keys('4')\n",
    "    # perform the action\n",
    "    run_action.perform()\n",
    "    sleep(1)\n",
    "    run_action.perform()"
   ]
  },
  {
   "attachments": {},
   "cell_type": "markdown",
   "metadata": {},
   "source": [
    "## Fight\n",
    "\n",
    "Uses the first move of the pokemon"
   ]
  },
  {
   "cell_type": "code",
   "execution_count": 12,
   "metadata": {},
   "outputs": [],
   "source": [
    "def fight(driver, game):\n",
    "    fight_action = ActionChains(driver)\n",
    "    fight_action.move_to_element(game)\n",
    "    fight_action.send_keys('1').pause(0.5)\n",
    "    fight_action.send_keys('1')\n",
    "    # perform the action\n",
    "    fight_action.perform()"
   ]
  },
  {
   "attachments": {},
   "cell_type": "markdown",
   "metadata": {},
   "source": [
    "## Catch\n",
    "\n",
    "Notifies the user to catch the desired pokemon"
   ]
  },
  {
   "cell_type": "code",
   "execution_count": 13,
   "metadata": {},
   "outputs": [],
   "source": [
    "def catch():\n",
    "    # for playing note.wav file\n",
    "    try:\n",
    "        playsound(r'./bubble-pop.wav')\n",
    "    except:\n",
    "        catch()"
   ]
  },
  {
   "attachments": {},
   "cell_type": "markdown",
   "metadata": {},
   "source": [
    "## Potion\n",
    "\n",
    "Potion location relative to backpack location. Edit this function accordingly."
   ]
  },
  {
   "cell_type": "code",
   "execution_count": 14,
   "metadata": {},
   "outputs": [],
   "source": [
    "def use_potion(driver, game):\n",
    "    potion_action = ActionChains(driver)\n",
    "    potion_action.move_to_element(game)\n",
    "    potion_action.send_keys('2').pause(1)\n",
    "    potion_action.send_keys('2').pause(1)\n",
    "    potion_action.send_keys('2').pause(1)\n",
    "    potion_action.send_keys('2').pause(1)\n",
    "    potion_action.send_keys('2').pause(1)\n",
    "    potion_action.send_keys('2').pause(1)\n",
    "    potion_action.send_keys('3')\n",
    "    # perform the action\n",
    "    potion_action.perform()\n",
    "    sleep(0.5)"
   ]
  },
  {
   "attachments": {},
   "cell_type": "markdown",
   "metadata": {},
   "source": [
    "## Recover Move\n",
    "\n",
    "Move relative to the pokemon in the battle... Edit accordingly"
   ]
  },
  {
   "cell_type": "code",
   "execution_count": 15,
   "metadata": {},
   "outputs": [],
   "source": [
    "def use_recover_move(driver, game):\n",
    "    fight_action = ActionChains(driver)\n",
    "    fight_action.move_to_element(game)\n",
    "    fight_action.send_keys('1').pause(0.5)\n",
    "    fight_action.send_keys('4').pause(7)\n",
    "    # perform the action\n",
    "    fight_action.perform()"
   ]
  },
  {
   "attachments": {},
   "cell_type": "markdown",
   "metadata": {},
   "source": [
    "# Automation"
   ]
  },
  {
   "attachments": {},
   "cell_type": "markdown",
   "metadata": {},
   "source": [
    "## Play action"
   ]
  },
  {
   "cell_type": "code",
   "execution_count": 16,
   "metadata": {},
   "outputs": [],
   "source": [
    "def play(driver, run_poke, fight_poke, catch_poke, reload_words):\n",
    "    encounter = 0\n",
    "    global game\n",
    "    while True:\n",
    "        walking(driver, game)\n",
    "        walking(driver, game)\n",
    "        walking(driver, game)\n",
    "        battle_log(driver)\n",
    "        text = text_recog()\n",
    "        for pokemon in catch_poke:\n",
    "            if pokemon in text:\n",
    "                catch()\n",
    "                break\n",
    "        for pokemon in run_poke:\n",
    "            if pokemon in text:\n",
    "                # potion/recovery move use to account for failed runs\n",
    "                # uncomment as needed\n",
    "                # if encounter > 10:  # adjust encounter count according to need\n",
    "                #     usePotion(driver, game)\n",
    "                #     # useRecoverMove(driver, game)\n",
    "                #     encounter = 0\n",
    "                run(driver, game)\n",
    "                encounter += 1\n",
    "                break\n",
    "        for pokemon in fight_poke:\n",
    "            if pokemon in text:\n",
    "                # useRecoverMove(driver)\n",
    "                fight(driver, game)\n",
    "                break\n",
    "        for keyword in reload_words:\n",
    "            if keyword in text_screenshot(driver):\n",
    "                game = reload(driver)\n",
    "                hop_on_bike(driver, game)\n",
    "                print('game disconnected, reloading')\n",
    "        "
   ]
  },
  {
   "attachments": {},
   "cell_type": "markdown",
   "metadata": {},
   "source": [
    "# Execution"
   ]
  },
  {
   "cell_type": "code",
   "execution_count": 17,
   "metadata": {},
   "outputs": [],
   "source": [
    "# define a list of pokemons that may appear\n",
    "run_poke = []  # run away from those pokemons\n",
    "fight_poke = ['Elite']  # fight those pokemons\n",
    "catch_poke = ['Shiny']\n",
    "\n",
    "reload_words = ['Disconnected', 'Login failed', 'Invalid', 'Unable to connect']"
   ]
  },
  {
   "cell_type": "code",
   "execution_count": 18,
   "metadata": {},
   "outputs": [],
   "source": [
    "login_and_play(driver)\n",
    "game = driver.find_element(By.ID, 'unity-canvas')\n",
    "play(driver, run_poke, fight_poke, catch_poke, reload_words)"
   ]
  },
  {
   "cell_type": "code",
   "execution_count": null,
   "metadata": {},
   "outputs": [
    {
     "name": "stdout",
     "output_type": "stream",
     "text": [
      "end...\n"
     ]
    }
   ],
   "source": [
    "driver.quit()\n",
    "print(\"end...\")"
   ]
  }
 ],
 "metadata": {
  "kernelspec": {
   "display_name": ".venv",
   "language": "python",
   "name": "python3"
  },
  "language_info": {
   "codemirror_mode": {
    "name": "ipython",
    "version": 3
   },
   "file_extension": ".py",
   "mimetype": "text/x-python",
   "name": "python",
   "nbconvert_exporter": "python",
   "pygments_lexer": "ipython3",
   "version": "3.11.3"
  },
  "orig_nbformat": 4
 },
 "nbformat": 4,
 "nbformat_minor": 2
}
